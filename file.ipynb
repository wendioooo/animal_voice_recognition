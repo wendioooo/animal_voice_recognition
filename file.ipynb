{
 "cells": [
  {
   "cell_type": "code",
   "execution_count": 1,
   "metadata": {},
   "outputs": [],
   "source": [
    "import csv\n",
    "import random"
   ]
  },
  {
   "cell_type": "code",
   "execution_count": 2,
   "metadata": {},
   "outputs": [],
   "source": [
    "file_read = csv.reader(open('annotations.csv','r'))\n",
    "train_write = csv.writer(open('train.csv','w',newline=''), dialect='excel')\n",
    "test_write = csv.writer(open('test.csv','w',newline=''), dialect='excel')"
   ]
  },
  {
   "cell_type": "code",
   "execution_count": 3,
   "metadata": {},
   "outputs": [],
   "source": [
    "count = 0\n",
    "for f in file_read:\n",
    "    if count == 0:\n",
    "        train_write.writerow(f)\n",
    "        test_write.writerow(f)\n",
    "        count += 1\n",
    "    else:\n",
    "        if random.random() > 0.3:\n",
    "            train_write.writerow(f)\n",
    "        else:\n",
    "            test_write.writerow(f)"
   ]
  }
 ],
 "metadata": {
  "interpreter": {
   "hash": "919eb0904b72c37e8d6c7e3b2f7b6f162c89cafcc297fba09b2d10c79c52f5eb"
  },
  "kernelspec": {
   "display_name": "Python 3.8.5 64-bit ('base': conda)",
   "language": "python",
   "name": "python3"
  },
  "language_info": {
   "codemirror_mode": {
    "name": "ipython",
    "version": 3
   },
   "file_extension": ".py",
   "mimetype": "text/x-python",
   "name": "python",
   "nbconvert_exporter": "python",
   "pygments_lexer": "ipython3",
   "version": "3.8.5"
  },
  "orig_nbformat": 4
 },
 "nbformat": 4,
 "nbformat_minor": 2
}
