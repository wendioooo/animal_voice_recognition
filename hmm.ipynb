{
 "cells": [
  {
   "cell_type": "code",
   "execution_count": 1,
   "metadata": {},
   "outputs": [],
   "source": [
    "import os\n",
    "import numpy as np\n",
    "import scipy.io.wavfile as wav\n",
    "import python_speech_features as sf\n",
    "from hmmlearn import hmm\n",
    "import csv as csv"
   ]
  },
  {
   "cell_type": "code",
   "execution_count": 2,
   "metadata": {},
   "outputs": [],
   "source": [
    "# mfcc\n",
    "def get_mfcc(file_path):\n",
    "    '''\n",
    "    :param file_path: 音频文件路径\n",
    "    :return: 一个mfcc特征矩阵\n",
    "    '''\n",
    "    rate, data = wav.read(file_path)\n",
    "    wav_features = sf.mfcc(signal=data, samplerate=rate, appendEnergy=True, nfft=2048)\n",
    "    d_mfcc_feat1 = sf.delta(wav_features, 1) # 一阶差分\n",
    "    d_mfcc_feat2 = sf.delta(wav_features, 2) # 二阶差分\n",
    "    feature = np.hstack((wav_features, d_mfcc_feat1, d_mfcc_feat2))\n",
    "    return feature\n",
    "\n",
    "def get_features(csv_file_path):\n",
    "    file =  open(csv_file_path)\n",
    "    folder = os.path.split(csv_file_path)[0]\n",
    "    file_data = csv.DictReader(file)\n",
    "    result = {}\n",
    "    for item in file_data:\n",
    "        mfcc = get_mfcc(os.path.join(folder,item['path']))\n",
    "        if item['species'] not in result:\n",
    "            result[item['species']] = []\n",
    "        result[item['species']].append(mfcc)\n",
    "    return result"
   ]
  },
  {
   "cell_type": "code",
   "execution_count": 4,
   "metadata": {},
   "outputs": [
    {
     "name": "stderr",
     "output_type": "stream",
     "text": [
      "WARNING:root:frame length (4165) is greater than FFT size (2048), frame will be truncated. Increase NFFT to avoid.\n",
      "WARNING:root:frame length (4165) is greater than FFT size (2048), frame will be truncated. Increase NFFT to avoid.\n",
      "WARNING:root:frame length (4165) is greater than FFT size (2048), frame will be truncated. Increase NFFT to avoid.\n",
      "WARNING:root:frame length (4165) is greater than FFT size (2048), frame will be truncated. Increase NFFT to avoid.\n",
      "WARNING:root:frame length (4165) is greater than FFT size (2048), frame will be truncated. Increase NFFT to avoid.\n",
      "WARNING:root:frame length (4165) is greater than FFT size (2048), frame will be truncated. Increase NFFT to avoid.\n",
      "WARNING:root:frame length (4165) is greater than FFT size (2048), frame will be truncated. Increase NFFT to avoid.\n",
      "WARNING:root:frame length (4165) is greater than FFT size (2048), frame will be truncated. Increase NFFT to avoid.\n",
      "WARNING:root:frame length (4165) is greater than FFT size (2048), frame will be truncated. Increase NFFT to avoid.\n",
      "WARNING:root:frame length (4165) is greater than FFT size (2048), frame will be truncated. Increase NFFT to avoid.\n",
      "WARNING:root:frame length (4165) is greater than FFT size (2048), frame will be truncated. Increase NFFT to avoid.\n",
      "WARNING:root:frame length (4165) is greater than FFT size (2048), frame will be truncated. Increase NFFT to avoid.\n",
      "WARNING:root:frame length (4165) is greater than FFT size (2048), frame will be truncated. Increase NFFT to avoid.\n",
      "WARNING:root:frame length (3703) is greater than FFT size (2048), frame will be truncated. Increase NFFT to avoid.\n",
      "C:\\Users\\LILINZ~1\\AppData\\Local\\Temp/ipykernel_17220/2586402089.py:7: WavFileWarning: Chunk (non-data) not understood, skipping it.\n",
      "  rate, data = wav.read(file_path)\n",
      "WARNING:root:frame length (3703) is greater than FFT size (2048), frame will be truncated. Increase NFFT to avoid.\n",
      "WARNING:root:frame length (4165) is greater than FFT size (2048), frame will be truncated. Increase NFFT to avoid.\n",
      "WARNING:root:frame length (4165) is greater than FFT size (2048), frame will be truncated. Increase NFFT to avoid.\n",
      "WARNING:root:frame length (4165) is greater than FFT size (2048), frame will be truncated. Increase NFFT to avoid.\n",
      "WARNING:root:frame length (4165) is greater than FFT size (2048), frame will be truncated. Increase NFFT to avoid.\n"
     ]
    }
   ],
   "source": [
    "train = get_features('wakins/test.csv')\n",
    "\n",
    "models = {}\n",
    "for label, mfccs in train.items():\n",
    "    sequence = []\n",
    "    train_mat = np.array([])\n",
    "    for mfcc in mfccs:\n",
    "        sequence.append(mfcc.shape[0])\n",
    "        if(train_mat.ndim == 1):\n",
    "            train_mat = mfcc\n",
    "        else:\n",
    "            train_mat = np.append(train_mat, mfcc, axis=0)\n",
    "    model = hmm.GaussianHMM(n_components=12, n_iter=3)\n",
    "    model = model.fit(train_mat, sequence)\n",
    "    models[label] = model"
   ]
  },
  {
   "cell_type": "code",
   "execution_count": 6,
   "metadata": {},
   "outputs": [
    {
     "name": "stderr",
     "output_type": "stream",
     "text": [
      "WARNING:root:frame length (4165) is greater than FFT size (2048), frame will be truncated. Increase NFFT to avoid.\n",
      "WARNING:root:frame length (4165) is greater than FFT size (2048), frame will be truncated. Increase NFFT to avoid.\n",
      "WARNING:root:frame length (4165) is greater than FFT size (2048), frame will be truncated. Increase NFFT to avoid.\n",
      "WARNING:root:frame length (4165) is greater than FFT size (2048), frame will be truncated. Increase NFFT to avoid.\n",
      "WARNING:root:frame length (4165) is greater than FFT size (2048), frame will be truncated. Increase NFFT to avoid.\n",
      "WARNING:root:frame length (4165) is greater than FFT size (2048), frame will be truncated. Increase NFFT to avoid.\n",
      "WARNING:root:frame length (4165) is greater than FFT size (2048), frame will be truncated. Increase NFFT to avoid.\n",
      "WARNING:root:frame length (4165) is greater than FFT size (2048), frame will be truncated. Increase NFFT to avoid.\n",
      "WARNING:root:frame length (4165) is greater than FFT size (2048), frame will be truncated. Increase NFFT to avoid.\n",
      "WARNING:root:frame length (4165) is greater than FFT size (2048), frame will be truncated. Increase NFFT to avoid.\n",
      "WARNING:root:frame length (4165) is greater than FFT size (2048), frame will be truncated. Increase NFFT to avoid.\n",
      "WARNING:root:frame length (4165) is greater than FFT size (2048), frame will be truncated. Increase NFFT to avoid.\n",
      "WARNING:root:frame length (4165) is greater than FFT size (2048), frame will be truncated. Increase NFFT to avoid.\n",
      "WARNING:root:frame length (3703) is greater than FFT size (2048), frame will be truncated. Increase NFFT to avoid.\n",
      "C:\\Users\\LILINZ~1\\AppData\\Local\\Temp/ipykernel_17220/2586402089.py:7: WavFileWarning: Chunk (non-data) not understood, skipping it.\n",
      "  rate, data = wav.read(file_path)\n",
      "WARNING:root:frame length (3703) is greater than FFT size (2048), frame will be truncated. Increase NFFT to avoid.\n",
      "WARNING:root:frame length (4165) is greater than FFT size (2048), frame will be truncated. Increase NFFT to avoid.\n",
      "WARNING:root:frame length (4165) is greater than FFT size (2048), frame will be truncated. Increase NFFT to avoid.\n",
      "WARNING:root:frame length (4165) is greater than FFT size (2048), frame will be truncated. Increase NFFT to avoid.\n",
      "WARNING:root:frame length (4165) is greater than FFT size (2048), frame will be truncated. Increase NFFT to avoid.\n"
     ]
    }
   ],
   "source": [
    "test = get_features('wakins/test.csv')\n",
    "\n",
    "preds_num = 0\n",
    "right_preds_num = 0\n",
    "\n",
    "for true_label, mfccs in test.items():\n",
    "    for mfcc in mfccs:\n",
    "        best_score = float('-inf')\n",
    "        preds_num += 1\n",
    "        for label, model in models.items():\n",
    "            score = model.score(mfcc)\n",
    "            if score > best_score:\n",
    "                best_score = score\n",
    "                pred_label = label\n",
    "        if pred_label == true_label:\n",
    "            right_preds_num += 1"
   ]
  },
  {
   "cell_type": "code",
   "execution_count": 7,
   "metadata": {},
   "outputs": [
    {
     "data": {
      "text/plain": [
       "474"
      ]
     },
     "execution_count": 7,
     "metadata": {},
     "output_type": "execute_result"
    }
   ],
   "source": [
    "preds_num"
   ]
  },
  {
   "cell_type": "code",
   "execution_count": 8,
   "metadata": {},
   "outputs": [
    {
     "data": {
      "text/plain": [
       "464"
      ]
     },
     "execution_count": 8,
     "metadata": {},
     "output_type": "execute_result"
    }
   ],
   "source": [
    "right_preds_num"
   ]
  }
 ],
 "metadata": {
  "interpreter": {
   "hash": "919eb0904b72c37e8d6c7e3b2f7b6f162c89cafcc297fba09b2d10c79c52f5eb"
  },
  "kernelspec": {
   "display_name": "Python 3.8.5 64-bit ('base': conda)",
   "language": "python",
   "name": "python3"
  },
  "language_info": {
   "codemirror_mode": {
    "name": "ipython",
    "version": 3
   },
   "file_extension": ".py",
   "mimetype": "text/x-python",
   "name": "python",
   "nbconvert_exporter": "python",
   "pygments_lexer": "ipython3",
   "version": "3.8.5"
  },
  "orig_nbformat": 4
 },
 "nbformat": 4,
 "nbformat_minor": 2
}
